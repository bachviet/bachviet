{
  "nbformat": 4,
  "nbformat_minor": 0,
  "metadata": {
    "colab": {
      "name": "Untitled0.ipynb",
      "provenance": [],
      "collapsed_sections": [],
      "mount_file_id": "1CGm_eOjcrZmAh-A8an_VTVMN4nVcJFhz",
      "authorship_tag": "ABX9TyN9BORuOKQlWwi30KvbhgHB",
      "include_colab_link": true
    },
    "kernelspec": {
      "name": "python3",
      "display_name": "Python 3"
    }
  },
  "cells": [
    {
      "cell_type": "markdown",
      "metadata": {
        "id": "view-in-github",
        "colab_type": "text"
      },
      "source": [
        "<a href=\"https://colab.research.google.com/github/bachviet/bachviet/blob/main/bai1.ipynb\" target=\"_parent\"><img src=\"https://colab.research.google.com/assets/colab-badge.svg\" alt=\"Open In Colab\"/></a>"
      ]
    },
    {
      "cell_type": "code",
      "metadata": {
        "id": "CmIw4e6k5MwT",
        "outputId": "12e06a6e-b803-4705-93bc-73e67204dc97",
        "colab": {
          "base_uri": "https://localhost:8080/"
        }
      },
      "source": [
        "import time\n",
        "print(time.ctime())"
      ],
      "execution_count": 3,
      "outputs": [
        {
          "output_type": "stream",
          "text": [
            "Mon Nov 16 02:36:06 2020\n"
          ],
          "name": "stdout"
        }
      ]
    },
    {
      "cell_type": "code",
      "metadata": {
        "id": "RaFwb-J76BeQ",
        "outputId": "fa5f85bb-3ea9-45a0-84a0-77d021636a90",
        "colab": {
          "base_uri": "https://localhost:8080/"
        }
      },
      "source": [
        "time.sleep(5)\n",
        "print (time.ctime())"
      ],
      "execution_count": 4,
      "outputs": [
        {
          "output_type": "stream",
          "text": [
            "Mon Nov 16 02:36:11 2020\n"
          ],
          "name": "stdout"
        }
      ]
    },
    {
      "cell_type": "markdown",
      "metadata": {
        "id": "qN-cp4Rd9Cc_"
      },
      "source": [
        "This is **bold**.\n",
        "This is *italic*.\n",
        "This is ~strikethrough~."
      ]
    },
    {
      "cell_type": "markdown",
      "metadata": {
        "id": "kbetLx3b9QMK"
      },
      "source": [
        "$\\sqrt{3x-1}+(1+x)^2$"
      ]
    },
    {
      "cell_type": "markdown",
      "metadata": {
        "id": "avUjheS_9TiC"
      },
      "source": [
        "$e^x = \\sum_{i = 0}^\\infty \\frac{1}{i!}x^i$"
      ]
    },
    {
      "cell_type": "markdown",
      "metadata": {
        "id": "TsnDchFV9rxa"
      },
      "source": [
        "Constraints are\n",
        "   - $3x_1 + 6x_2 + x_3 =< 28$\n",
        "   - $7x_1 + 3x_2 + 2x_3 =< 37$\n",
        "   - $4x_1 + 5x_2 + 2x_3 =< 19$\n",
        "   - $x_1,x_2,x_3 >=0 $\n",
        "\n",
        "The trial vector is calculated as follows:\n",
        "- $u_i(t) = x_i(t) + \\beta(\\hat{x}(t) − x_i(t)) + \\beta \\sum_{k = 1}^{n_v}(x_{i1,k}(t) − x_{i2,k}(t))$\n",
        "$f(x_1, x_2) = 20 + e - 20exp(-0.2 \\sqrt {\\frac {1}{n} (x_1^2 + x_2^2)}) - exp (\\frac {1}{n}(cos(2\\pi x_1) + cos(2\\pi x_2))$\n",
        "\n",
        "$x ∈ [-5, 5]$\n",
        ">$A_{m,n} =\n",
        "   \\begin{pmatrix}\n",
        "   a_{1,1} > a_{1,2} > \\cdots > a_{1,n} \\\\\n",
        "   a_{2,1} > a_{2,2} > \\cdots > a_{2,n} \\\\\n",
        "   \\vdots > \\vdots > \\ddots > \\vdots \\\\\n",
        "   a_{m,1} > a_{m,2} > \\cdots > a_{m,n}\n",
        "   \\end{pmatrix}$"
      ]
    },
    {
      "cell_type": "markdown",
      "metadata": {
        "id": "X3GiXSd6ELBe"
      },
      "source": [
        "import pandas as pd\n",
        "data = pd.read_csv(\"/content/drive/My Drive/app/adult.data.1\")\n",
        "data.head(5)"
      ]
    },
    {
      "cell_type": "code",
      "metadata": {
        "id": "UCChkXJ3IIYU",
        "outputId": "af855beb-b6bc-4c46-aff1-846bb20cdbd5",
        "colab": {
          "base_uri": "https://localhost:8080/",
          "height": 195
        }
      },
      "source": [
        "import pandas as pd\n",
        "data = pd.read_csv(\"https://archive.ics.uci.edu/ml/machine-learning-databases/adult/adult.data\")\n",
        "data.head(5)"
      ],
      "execution_count": 5,
      "outputs": [
        {
          "output_type": "execute_result",
          "data": {
            "text/html": [
              "<div>\n",
              "<style scoped>\n",
              "    .dataframe tbody tr th:only-of-type {\n",
              "        vertical-align: middle;\n",
              "    }\n",
              "\n",
              "    .dataframe tbody tr th {\n",
              "        vertical-align: top;\n",
              "    }\n",
              "\n",
              "    .dataframe thead th {\n",
              "        text-align: right;\n",
              "    }\n",
              "</style>\n",
              "<table border=\"1\" class=\"dataframe\">\n",
              "  <thead>\n",
              "    <tr style=\"text-align: right;\">\n",
              "      <th></th>\n",
              "      <th>39</th>\n",
              "      <th>State-gov</th>\n",
              "      <th>77516</th>\n",
              "      <th>Bachelors</th>\n",
              "      <th>13</th>\n",
              "      <th>Never-married</th>\n",
              "      <th>Adm-clerical</th>\n",
              "      <th>Not-in-family</th>\n",
              "      <th>White</th>\n",
              "      <th>Male</th>\n",
              "      <th>2174</th>\n",
              "      <th>0</th>\n",
              "      <th>40</th>\n",
              "      <th>United-States</th>\n",
              "      <th>&lt;=50K</th>\n",
              "    </tr>\n",
              "  </thead>\n",
              "  <tbody>\n",
              "    <tr>\n",
              "      <th>0</th>\n",
              "      <td>50</td>\n",
              "      <td>Self-emp-not-inc</td>\n",
              "      <td>83311</td>\n",
              "      <td>Bachelors</td>\n",
              "      <td>13</td>\n",
              "      <td>Married-civ-spouse</td>\n",
              "      <td>Exec-managerial</td>\n",
              "      <td>Husband</td>\n",
              "      <td>White</td>\n",
              "      <td>Male</td>\n",
              "      <td>0</td>\n",
              "      <td>0</td>\n",
              "      <td>13</td>\n",
              "      <td>United-States</td>\n",
              "      <td>&lt;=50K</td>\n",
              "    </tr>\n",
              "    <tr>\n",
              "      <th>1</th>\n",
              "      <td>38</td>\n",
              "      <td>Private</td>\n",
              "      <td>215646</td>\n",
              "      <td>HS-grad</td>\n",
              "      <td>9</td>\n",
              "      <td>Divorced</td>\n",
              "      <td>Handlers-cleaners</td>\n",
              "      <td>Not-in-family</td>\n",
              "      <td>White</td>\n",
              "      <td>Male</td>\n",
              "      <td>0</td>\n",
              "      <td>0</td>\n",
              "      <td>40</td>\n",
              "      <td>United-States</td>\n",
              "      <td>&lt;=50K</td>\n",
              "    </tr>\n",
              "    <tr>\n",
              "      <th>2</th>\n",
              "      <td>53</td>\n",
              "      <td>Private</td>\n",
              "      <td>234721</td>\n",
              "      <td>11th</td>\n",
              "      <td>7</td>\n",
              "      <td>Married-civ-spouse</td>\n",
              "      <td>Handlers-cleaners</td>\n",
              "      <td>Husband</td>\n",
              "      <td>Black</td>\n",
              "      <td>Male</td>\n",
              "      <td>0</td>\n",
              "      <td>0</td>\n",
              "      <td>40</td>\n",
              "      <td>United-States</td>\n",
              "      <td>&lt;=50K</td>\n",
              "    </tr>\n",
              "    <tr>\n",
              "      <th>3</th>\n",
              "      <td>28</td>\n",
              "      <td>Private</td>\n",
              "      <td>338409</td>\n",
              "      <td>Bachelors</td>\n",
              "      <td>13</td>\n",
              "      <td>Married-civ-spouse</td>\n",
              "      <td>Prof-specialty</td>\n",
              "      <td>Wife</td>\n",
              "      <td>Black</td>\n",
              "      <td>Female</td>\n",
              "      <td>0</td>\n",
              "      <td>0</td>\n",
              "      <td>40</td>\n",
              "      <td>Cuba</td>\n",
              "      <td>&lt;=50K</td>\n",
              "    </tr>\n",
              "    <tr>\n",
              "      <th>4</th>\n",
              "      <td>37</td>\n",
              "      <td>Private</td>\n",
              "      <td>284582</td>\n",
              "      <td>Masters</td>\n",
              "      <td>14</td>\n",
              "      <td>Married-civ-spouse</td>\n",
              "      <td>Exec-managerial</td>\n",
              "      <td>Wife</td>\n",
              "      <td>White</td>\n",
              "      <td>Female</td>\n",
              "      <td>0</td>\n",
              "      <td>0</td>\n",
              "      <td>40</td>\n",
              "      <td>United-States</td>\n",
              "      <td>&lt;=50K</td>\n",
              "    </tr>\n",
              "  </tbody>\n",
              "</table>\n",
              "</div>"
            ],
            "text/plain": [
              "   39          State-gov   77516   Bachelors  ...   0  40   United-States   <=50K\n",
              "0  50   Self-emp-not-inc   83311   Bachelors  ...   0  13   United-States   <=50K\n",
              "1  38            Private  215646     HS-grad  ...   0  40   United-States   <=50K\n",
              "2  53            Private  234721        11th  ...   0  40   United-States   <=50K\n",
              "3  28            Private  338409   Bachelors  ...   0  40            Cuba   <=50K\n",
              "4  37            Private  284582     Masters  ...   0  40   United-States   <=50K\n",
              "\n",
              "[5 rows x 15 columns]"
            ]
          },
          "metadata": {
            "tags": []
          },
          "execution_count": 5
        }
      ]
    },
    {
      "cell_type": "code",
      "metadata": {
        "id": "5MYtJp7VKTVN",
        "outputId": "bff0c39b-ef96-4e0e-e5dc-dc2417a238d9",
        "colab": {
          "base_uri": "https://localhost:8080/"
        }
      },
      "source": [
        "!git clone https://github.com/wxs/keras-mnist-tutorial.git"
      ],
      "execution_count": 6,
      "outputs": [
        {
          "output_type": "stream",
          "text": [
            "Cloning into 'keras-mnist-tutorial'...\n",
            "remote: Enumerating objects: 26, done.\u001b[K\n",
            "remote: Total 26 (delta 0), reused 0 (delta 0), pack-reused 26\u001b[K\n",
            "Unpacking objects: 100% (26/26), done.\n"
          ],
          "name": "stdout"
        }
      ]
    },
    {
      "cell_type": "code",
      "metadata": {
        "id": "j07LX9e8KZEh",
        "outputId": "eb201659-0be0-4a0d-b548-b051859bed0c",
        "colab": {
          "base_uri": "https://localhost:8080/"
        }
      },
      "source": [
        "!ls /bin"
      ],
      "execution_count": 8,
      "outputs": [
        {
          "output_type": "stream",
          "text": [
            "bash\t       hostname       su\n",
            "bunzip2        journalctl     sync\n",
            "bzcat\t       kill\t      systemctl\n",
            "bzcmp\t       kmod\t      systemd\n",
            "bzdiff\t       less\t      systemd-ask-password\n",
            "bzegrep        lessecho       systemd-escape\n",
            "bzexe\t       lessfile       systemd-hwdb\n",
            "bzfgrep        lesskey\t      systemd-inhibit\n",
            "bzgrep\t       lesspipe       systemd-machine-id-setup\n",
            "bzip2\t       ln\t      systemd-notify\n",
            "bzip2recover   login\t      systemd-sysusers\n",
            "bzless\t       loginctl       systemd-tmpfiles\n",
            "bzmore\t       ls\t      systemd-tty-ask-password-agent\n",
            "cat\t       lsblk\t      tar\n",
            "chgrp\t       lsmod\t      tempfile\n",
            "chmod\t       mkdir\t      touch\n",
            "chown\t       mknod\t      true\n",
            "cp\t       mktemp\t      udevadm\n",
            "dash\t       more\t      ulockmgr_server\n",
            "date\t       mount\t      umount\n",
            "dd\t       mountpoint     uname\n",
            "df\t       mv\t      uncompress\n",
            "dir\t       networkctl     vdir\n",
            "dmesg\t       nisdomainname  wdctl\n",
            "dnsdomainname  pidof\t      which\n",
            "domainname     ps\t      ypdomainname\n",
            "echo\t       pwd\t      zcat\n",
            "egrep\t       rbash\t      zcmp\n",
            "false\t       readlink       zdiff\n",
            "fgrep\t       rm\t      zegrep\n",
            "findmnt        rmdir\t      zfgrep\n",
            "fuser\t       run-parts      zforce\n",
            "fusermount     sed\t      zgrep\n",
            "grep\t       sh\t      zless\n",
            "gunzip\t       sh.distrib     zmore\n",
            "gzexe\t       sleep\t      znew\n",
            "gzip\t       stty\n"
          ],
          "name": "stdout"
        }
      ]
    },
    {
      "cell_type": "code",
      "metadata": {
        "id": "kafBTjH4Mshr",
        "outputId": "7b49aaec-c11e-4a30-883e-b80866012eb2",
        "colab": {
          "base_uri": "https://localhost:8080/",
          "height": 281
        }
      },
      "source": [
        "import numpy as np\n",
        "from matplotlib import pyplot as plt\n",
        "\n",
        "y = np.random.randn(100)\n",
        "x = [x for x in range(len(y))]\n",
        "\n",
        "plt.plot(x, y, '-')\n",
        "plt.fill_between(x, y, 200, where = (y > 195), facecolor='g', alpha=0.6)\n",
        "\n",
        "plt.title(\"Sample Plot\")\n",
        "plt.show()"
      ],
      "execution_count": 14,
      "outputs": [
        {
          "output_type": "display_data",
          "data": {
            "image/png": "[encoded data removed]",
            "text/plain": [
              "<Figure size 432x288 with 1 Axes>"
            ]
          },
          "metadata": {
            "tags": [],
            "needs_background": "light"
          }
        }
      ]
    },
    {
      "cell_type": "code",
      "metadata": {
        "id": "SrlHA-PpNKYM",
        "outputId": "66314b7f-810f-430f-ee69-135a392e1977",
        "colab": {
          "base_uri": "https://localhost:8080/",
          "height": 38
        }
      },
      "source": [
        "%%html\n",
        "<marquee style='width: 50%; color: Green;'>Welcome to Tutorialspoint!</marquee>"
      ],
      "execution_count": 16,
      "outputs": [
        {
          "output_type": "display_data",
          "data": {
            "text/html": [
              "<marquee style='width: 50%; color: Green;'>Welcome to Tutorialspoint!</marquee>"
            ],
            "text/plain": [
              "<IPython.core.display.HTML object>"
            ]
          },
          "metadata": {
            "tags": []
          }
        }
      ]
    },
    {
      "cell_type": "code",
      "metadata": {
        "id": "VJwZQ3xcNO-L",
        "outputId": "abbce20d-94fb-43e6-9bd0-bd862cbad19d",
        "colab": {
          "base_uri": "https://localhost:8080/",
          "height": 421
        }
      },
      "source": [
        "%%html\n",
        "<svg xmlns=\"https://www.w3.org/2000/svg\" viewBox=\"0 0 600 400\" width=\"400\" height=\"400\">\n",
        "   <rect x=\"10\" y=\"00\" width=\"300\" height=\"100\" rx=\"0\" style=\"fill:orange; stroke:black; fill-opacity:1.0\" />\n",
        "   <rect x=\"10\" y=\"100\" width=\"300\" height=\"100\" rx=\"0\" style=\"fill:white; stroke:black; fill-opacity:1.0;\" />\n",
        "   <rect x=\"10\" y=\"200\" width=\"300\" height=\"100\" rx=\"0\" style=\"fill:green; stroke:black; fill-opacity:1.0;\" />\n",
        "</svg>"
      ],
      "execution_count": 17,
      "outputs": [
        {
          "output_type": "display_data",
          "data": {
            "text/html": [
              "<svg xmlns=\"https://www.w3.org/2000/svg\" viewBox=\"0 0 600 400\" width=\"400\" height=\"400\">\n",
              "   <rect x=\"10\" y=\"00\" width=\"300\" height=\"100\" rx=\"0\" style=\"fill:orange; stroke:black; fill-opacity:1.0\" />\n",
              "   <rect x=\"10\" y=\"100\" width=\"300\" height=\"100\" rx=\"0\" style=\"fill:white; stroke:black; fill-opacity:1.0;\" />\n",
              "   <rect x=\"10\" y=\"200\" width=\"300\" height=\"100\" rx=\"0\" style=\"fill:green; stroke:black; fill-opacity:1.0;\" />\n",
              "</svg>"
            ],
            "text/plain": [
              "<IPython.core.display.HTML object>"
            ]
          },
          "metadata": {
            "tags": []
          }
        }
      ]
    },
    {
      "cell_type": "code",
      "metadata": {
        "id": "_8Tf2VMSNSfq",
        "outputId": "60b3741e-d9e5-4a25-fe24-b7b8b0329e5b",
        "colab": {
          "base_uri": "https://localhost:8080/",
          "height": 154
        }
      },
      "source": [
        "%lsmagic"
      ],
      "execution_count": 18,
      "outputs": [
        {
          "output_type": "execute_result",
          "data": {
            "application/json": {
              "cell": {
                "prun": "ExecutionMagics",
                "file": "Other",
                "!": "OSMagics",
                "capture": "ExecutionMagics",
                "timeit": "ExecutionMagics",
                "script": "ScriptMagics",
                "pypy": "Other",
                "system": "OSMagics",
                "perl": "Other",
                "html": "DisplayMagics",
                "bash": "Other",
                "shell": "Other",
                "HTML": "Other",
                "python": "Other",
                "SVG": "Other",
                "javascript": "DisplayMagics",
                "bigquery": "Other",
                "js": "DisplayMagics",
                "writefile": "OSMagics",
                "ruby": "Other",
                "python3": "Other",
                "python2": "Other",
                "latex": "DisplayMagics",
                "sx": "OSMagics",
                "svg": "DisplayMagics",
                "sh": "Other",
                "time": "ExecutionMagics",
                "debug": "ExecutionMagics"
              },
              "line": {
                "psource": "NamespaceMagics",
                "logstart": "LoggingMagics",
                "popd": "OSMagics",
                "tensorflow_version": "Other",
                "loadpy": "CodeMagics",
                "colors": "BasicMagics",
                "who_ls": "NamespaceMagics",
                "lf": "Other",
                "ll": "Other",
                "pprint": "BasicMagics",
                "lk": "Other",
                "ls": "Other",
                "save": "CodeMagics",
                "tb": "ExecutionMagics",
                "lx": "Other",
                "pylab": "PylabMagics",
                "killbgscripts": "ScriptMagics",
                "quickref": "BasicMagics",
                "magic": "BasicMagics",
                "dhist": "OSMagics",
                "edit": "KernelMagics",
                "logstop": "LoggingMagics",
                "gui": "BasicMagics",
                "prun": "ExecutionMagics",
                "debug": "ExecutionMagics",
                "page": "BasicMagics",
                "logstate": "LoggingMagics",
                "ed": "Other",
                "pushd": "OSMagics",
                "timeit": "ExecutionMagics",
                "set_env": "OSMagics",
                "rehashx": "OSMagics",
                "hist": "Other",
                "qtconsole": "KernelMagics",
                "rm": "Other",
                "dirs": "OSMagics",
                "run": "ExecutionMagics",
                "reset_selective": "NamespaceMagics",
                "pinfo2": "NamespaceMagics",
                "matplotlib": "PylabMagics",
                "unload_ext": "ExtensionMagics",
                "doctest_mode": "BasicMagics",
                "logoff": "LoggingMagics",
                "reload_ext": "ExtensionMagics",
                "pdb": "ExecutionMagics",
                "load": "CodeMagics",
                "lsmagic": "BasicMagics",
                "autosave": "KernelMagics",
                "cd": "OSMagics",
                "pastebin": "CodeMagics",
                "alias_magic": "BasicMagics",
                "cp": "Other",
                "autocall": "AutoMagics",
                "ldir": "Other",
                "bookmark": "OSMagics",
                "connect_info": "KernelMagics",
                "mkdir": "Other",
                "system": "OSMagics",
                "whos": "NamespaceMagics",
                "rmdir": "Other",
                "automagic": "AutoMagics",
                "store": "StoreMagics",
                "more": "KernelMagics",
                "shell": "Other",
                "pdef": "NamespaceMagics",
                "precision": "BasicMagics",
                "pinfo": "NamespaceMagics",
                "pwd": "OSMagics",
                "psearch": "NamespaceMagics",
                "reset": "NamespaceMagics",
                "recall": "HistoryMagics",
                "xdel": "NamespaceMagics",
                "xmode": "BasicMagics",
                "cat": "Other",
                "mv": "Other",
                "rerun": "HistoryMagics",
                "logon": "LoggingMagics",
                "history": "HistoryMagics",
                "pycat": "OSMagics",
                "pip": "Other",
                "unalias": "OSMagics",
                "env": "OSMagics",
                "load_ext": "ExtensionMagics",
                "config": "ConfigMagics",
                "profile": "BasicMagics",
                "pfile": "NamespaceMagics",
                "less": "KernelMagics",
                "who": "NamespaceMagics",
                "notebook": "BasicMagics",
                "man": "KernelMagics",
                "sx": "OSMagics",
                "macro": "ExecutionMagics",
                "clear": "KernelMagics",
                "alias": "OSMagics",
                "time": "ExecutionMagics",
                "sc": "OSMagics",
                "rep": "Other",
                "pdoc": "NamespaceMagics"
              }
            },
            "text/plain": [
              "Available line magics:\n",
              "%alias  %alias_magic  %autocall  %automagic  %autosave  %bookmark  %cat  %cd  %clear  %colors  %config  %connect_info  %cp  %debug  %dhist  %dirs  %doctest_mode  %ed  %edit  %env  %gui  %hist  %history  %killbgscripts  %ldir  %less  %lf  %lk  %ll  %load  %load_ext  %loadpy  %logoff  %logon  %logstart  %logstate  %logstop  %ls  %lsmagic  %lx  %macro  %magic  %man  %matplotlib  %mkdir  %more  %mv  %notebook  %page  %pastebin  %pdb  %pdef  %pdoc  %pfile  %pinfo  %pinfo2  %pip  %popd  %pprint  %precision  %profile  %prun  %psearch  %psource  %pushd  %pwd  %pycat  %pylab  %qtconsole  %quickref  %recall  %rehashx  %reload_ext  %rep  %rerun  %reset  %reset_selective  %rm  %rmdir  %run  %save  %sc  %set_env  %shell  %store  %sx  %system  %tb  %tensorflow_version  %time  %timeit  %unalias  %unload_ext  %who  %who_ls  %whos  %xdel  %xmode\n",
              "\n",
              "Available cell magics:\n",
              "%%!  %%HTML  %%SVG  %%bash  %%bigquery  %%capture  %%debug  %%file  %%html  %%javascript  %%js  %%latex  %%perl  %%prun  %%pypy  %%python  %%python2  %%python3  %%ruby  %%script  %%sh  %%shell  %%svg  %%sx  %%system  %%time  %%timeit  %%writefile\n",
              "\n",
              "Automagic is ON, % prefix IS NOT needed for line magics."
            ]
          },
          "metadata": {
            "tags": []
          },
          "execution_count": 18
        }
      ]
    },
    {
      "cell_type": "code",
      "metadata": {
        "id": "vBzF85TZNXhR",
        "outputId": "88033d68-4445-4ce9-fe70-e6ee7002f633",
        "colab": {
          "base_uri": "https://localhost:8080/"
        }
      },
      "source": [
        "#@title Văn bản tiêu đề mặc định\n",
        "variable_name = \"7\" #@param {type:\"string\"}\n",
        "import time\n",
        "print(time.ctime())\n",
        "time.sleep(5)\n",
        "print (time.ctime())"
      ],
      "execution_count": 21,
      "outputs": [
        {
          "output_type": "stream",
          "text": [
            "Mon Nov 16 04:01:17 2020\n",
            "Mon Nov 16 04:01:22 2020\n"
          ],
          "name": "stdout"
        }
      ]
    },
    {
      "cell_type": "code",
      "metadata": {
        "id": "3TXy6r-eN_vu",
        "outputId": "6d89acf2-9428-4241-9978-2a137735aa45",
        "colab": {
          "base_uri": "https://localhost:8080/"
        }
      },
      "source": [
        "#@title Văn bản tiêu đề mặc định\n",
        "sleeptime =  3#@param {type:\"number\"}\n",
        "import time\n",
        "print(time.ctime())\n",
        "time.sleep(sleeptime)\n",
        "print (time.ctime())"
      ],
      "execution_count": 23,
      "outputs": [
        {
          "output_type": "stream",
          "text": [
            "Mon Nov 16 04:03:41 2020\n",
            "Mon Nov 16 04:03:44 2020\n"
          ],
          "name": "stdout"
        }
      ]
    },
    {
      "cell_type": "code",
      "metadata": {
        "id": "SZWRpguYObeD",
        "outputId": "1d594a9f-4bd5-40d2-b422-7ad85e1bde73",
        "colab": {
          "base_uri": "https://localhost:8080/"
        }
      },
      "source": [
        "color = 'red' #@param [\"red\", \"green\", \"blue\"]\n",
        "print(color)"
      ],
      "execution_count": 25,
      "outputs": [
        {
          "output_type": "stream",
          "text": [
            "red\n"
          ],
          "name": "stdout"
        }
      ]
    }
  ]
}